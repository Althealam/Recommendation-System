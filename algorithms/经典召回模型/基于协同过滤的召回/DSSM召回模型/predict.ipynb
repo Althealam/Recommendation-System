{
 "cells": [
  {
   "cell_type": "code",
   "execution_count": null,
   "metadata": {},
   "outputs": [],
   "source": [
    "# ANN召回\n",
    "# 为测试集用户召回\n",
    "# 通过annoy tree为所有的item构建索引，并通过测试集中所有的user embedding为每个用户召回一定数量的item\n",
    "def get_DSSM_recall_res(user_embs, doc_embs, user_idx_2_rawid, doc_idx_2_rawid, topk):\n",
    "    \"\"\"近邻检索，这里用annoy tree\"\"\"\n",
    "    # 把doc_embs构建成索引树\n",
    "    f = user_embs.shape[1]\n",
    "    t = AnnoyIndex(f, 'angular')\n",
    "    for i, v in enumerate(doc_embs):\n",
    "        t.add_item(i, v)\n",
    "    t.build(10)\n",
    "\n",
    "    # 每个用户向量， 返回最近的TopK个item\n",
    "    user_recall_items_dict = collections.defaultdict(dict)\n",
    "    for i, u in enumerate(user_embs):\n",
    "        recall_doc_scores = t.get_nns_by_vector(u, topk, include_distances=True)\n",
    "        # recall_doc_scores是(([doc_idx], [scores]))， 这里需要转成原始doc的id\n",
    "        raw_doc_scores = list(recall_doc_scores)\n",
    "        raw_doc_scores[0] = [doc_idx_2_rawid[i] for i in raw_doc_scores[0]]\n",
    "        # 转换成实际用户id\n",
    "        user_recall_items_dict[user_idx_2_rawid[i]] = dict(zip(*raw_doc_scores))\n",
    "\n",
    "    # 默认是分数从小到大排的序， 这里要从大到小\n",
    "    user_recall_items_dict = {k: sorted(v.items(), key=lambda x: x[1], reverse=True) for k, v in user_recall_items_dict.items()}\n",
    "\n",
    "    pickle.dump(user_recall_items_dict, open(file_path + 'DSSM_u2i_dict.pkl', 'wb'))\n",
    "\n",
    "    return user_recall_items_dict\n"
   ]
  },
  {
   "cell_type": "code",
   "execution_count": null,
   "metadata": {},
   "outputs": [],
   "source": [
    "# 测试召回结果\n",
    "# 为测试集用户的召回结果进行测试\n",
    "user_recall_items_dict = get_DSSM_recall_res(user_embs, item_embs, user_idx_2_rawid, doc_idx_2_rawid, topk=TOP_NUM)\n",
    "\n",
    "test_true_items = {line[0]:line[1] for line in test_set}\n",
    "\n",
    "s = []\n",
    "precision = []\n",
    "for i, uid in tqdm(enumerate(list(user_recall_items_dict.keys()))):\n",
    "    # try:\n",
    "    pred = [x for x, _ in user_recall_items_dict[uid]]\n",
    "    filter_item = None\n",
    "    recall_score = recall_N(test_true_items[uid], pred, N=TOP_NUM)\n",
    "    s.append(recall_score)\n",
    "    precision_score = precision_N(test_true_items[uid], pred, N=TOP_NUM)\n",
    "    precision.append(precision_score)\n",
    "    print(\"recall\", np.mean(s))\n",
    "    print(\"precision\", np.mean(precision))\n"
   ]
  }
 ],
 "metadata": {
  "language_info": {
   "name": "python"
  }
 },
 "nbformat": 4,
 "nbformat_minor": 2
}
