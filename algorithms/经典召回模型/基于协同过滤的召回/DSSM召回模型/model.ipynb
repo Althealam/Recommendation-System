{
 "cells": [
  {
   "cell_type": "code",
   "execution_count": 1,
   "metadata": {},
   "outputs": [],
   "source": [
    "# 构建DSSM模型\n",
    "# 模型构建部分主要是将输入的user特征以及item特征处理完后送入两侧的DNN结构\n",
    "def DSSM(user_feature_columns, item_feature_columns, dnn_units=[64, 32], \n",
    "        temp=10, task='binary'):\n",
    "    # 构建所有特征的Input层和Embedding层\n",
    "    feature_encode = FeatureEncoder(user_feature_columns + item_feature_columns)\n",
    "    feature_input_layers_list = list(feature_encode.feature_input_layer_dict.values())\n",
    "\n",
    "    # 特征处理\n",
    "    user_dnn_input, item_dnn_input = process_feature(user_feature_columns,\\\n",
    "        item_feature_columns, feature_encode)\n",
    "\n",
    "    # 构建模型的核心层\n",
    "    if len(user_dnn_input) >= 2:\n",
    "        user_dnn_input = Concatenate(axis=1)(user_dnn_input)\n",
    "    else:\n",
    "        user_dnn_input = user_dnn_input[0]\n",
    "    if len(item_dnn_input) >= 2:\n",
    "        item_dnn_input = Concatenate(axis=1)(item_dnn_input)\n",
    "    else:\n",
    "        item_dnn_input = item_dnn_input[0]\n",
    "    user_dnn_input = Flatten()(user_dnn_input) \n",
    "    item_dnn_input = Flatten()(item_dnn_input)\n",
    "    user_dnn_out = DNN(dnn_units)(user_dnn_input)\n",
    "    item_dnn_out = DNN(dnn_units)(item_dnn_input)\n",
    "\n",
    "\n",
    "    # 计算相似度\n",
    "    scores = CosinSimilarity(temp)([user_dnn_out, item_dnn_out]) # (B,1)\n",
    "    # 确定拟合目标\n",
    "    output = PredictLayer()(scores)\n",
    "    # 根据输入输出构建模型\n",
    "    model = Model(feature_input_layers_list, output)\n",
    "    return model \n"
   ]
  },
  {
   "cell_type": "code",
   "execution_count": null,
   "metadata": {},
   "outputs": [],
   "source": [
    "# CosinSimilarity相似度计算\n",
    "def call(self, inputs, **kwargs):\n",
    "    \"\"\"inputs 是一个列表\"\"\"\n",
    "    query, candidate = inputs \n",
    "    # 计算两个向量的二范数\n",
    "    query_norm = tf.norm(query, axis=self.axis) # (B, 1)\n",
    "    candidate_norm = tf.norm(candidate, axis=self.axis)\n",
    "    # 计算向量点击，即內积操作\n",
    "    scores = tf.reduce_sum(tf.multiply(query, candidate), axis=-1)#(B,1)\n",
    "    # 相似度除以二范数, 防止除零\n",
    "    scores = tf.divide(scores, query_norm * candidate_norm + 1e-8)\n",
    "    # 对score的范围限制到(-1, 1)之间\n",
    "    scores = tf.clip_by_value(scores, -1, 1)\n",
    "    # 乘以温度系数\n",
    "    score = scores * self.temperature \n",
    "    return score \n"
   ]
  }
 ],
 "metadata": {
  "kernelspec": {
   "display_name": "base",
   "language": "python",
   "name": "python3"
  },
  "language_info": {
   "codemirror_mode": {
    "name": "ipython",
    "version": 3
   },
   "file_extension": ".py",
   "mimetype": "text/x-python",
   "name": "python",
   "nbconvert_exporter": "python",
   "pygments_lexer": "ipython3",
   "version": "3.9.7"
  }
 },
 "nbformat": 4,
 "nbformat_minor": 2
}
