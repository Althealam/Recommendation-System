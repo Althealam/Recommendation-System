{
 "cells": [
  {
   "cell_type": "code",
   "execution_count": 1,
   "id": "b92a336d",
   "metadata": {},
   "outputs": [],
   "source": [
    "# 构建物品-用户的评分矩阵\n",
    "import numpy as np\n",
    "import pandas as pd\n",
    "\n",
    "def loadData():\n",
    "    items={\n",
    "        'A':{'Alice':5.0,'user1':3.0,'user2':4.0,'user3':3.0,'user4':1.0},\n",
    "        'B':{'Alice':3.0,'user1':1.0,'user2':3.0,'user3':3.0,'user4':5.0},\n",
    "        'C':{'Alice':4.0,'user1':2.0,'user2':4.0,'user3':1.0,'user4':5.0},\n",
    "        'D':{'Alice':4.0,'user1':3.0,'user2':3.0,'user3':5.0,'user4':2.0},\n",
    "        'E':{'user1':3.0,'user2':5.0,'user3':4.0,'user4':1.0}\n",
    "    }\n",
    "    return items"
   ]
  },
  {
   "cell_type": "code",
   "execution_count": 3,
   "id": "4421e390",
   "metadata": {},
   "outputs": [
    {
     "name": "stdout",
     "output_type": "stream",
     "text": [
      "          A         B         C         D         E\n",
      "A  1.000000 -0.476731 -0.123091  0.532181  0.969458\n",
      "B -0.476731  1.000000  0.645497 -0.310087 -0.478091\n",
      "C -0.123091  0.645497  1.000000 -0.720577 -0.427618\n",
      "D  0.532181 -0.310087 -0.720577  1.000000  0.581675\n",
      "E  0.969458 -0.478091 -0.427618  0.581675  1.000000\n"
     ]
    }
   ],
   "source": [
    "# 计算物品之间的相似度矩阵\n",
    "item_data=loadData()\n",
    "\n",
    "similarity_matrix=pd.DataFrame(\n",
    "    np.identity(len(item_data)),\n",
    "    index=item_data.keys(),\n",
    "    columns=item_data.keys(),\n",
    ")\n",
    "\n",
    "# 遍历每条物品-用户评分数据\n",
    "for i1, users1 in item_data.items():\n",
    "    for i2, users2 in item_data.items():\n",
    "        if i1==i2: # 如果是同一件物品就跳过，毕竟同一个物品的相似度肯定是很高的\n",
    "            continue\n",
    "        vec1, vec2=[], []\n",
    "        for user, rating1 in users1.items():\n",
    "            rating2=users2.get(user,-1)\n",
    "            if rating2==-1:\n",
    "                continue\n",
    "            vec1.append(rating1) # 计算物品1的rating\n",
    "            vec2.append(rating2) # 记录物品2的rating\n",
    "        similarity_matrix[i1][i2]=np.corrcoef(vec1,vec2)[0][1] # 计算物品1和物品2的相似度\n",
    "        \n",
    "print(similarity_matrix)"
   ]
  },
  {
   "cell_type": "code",
   "execution_count": 4,
   "id": "28ce6620",
   "metadata": {},
   "outputs": [
    {
     "name": "stdout",
     "output_type": "stream",
     "text": [
      "与物品E最相似的2个物品为:['A', 'D']\n"
     ]
    }
   ],
   "source": [
    "# 从Alice购买过的物品中，选出和E最相似的num件物品\n",
    "target_user='Alice'\n",
    "target_item='E'\n",
    "num=2\n",
    "\n",
    "sim_items=[]\n",
    "sim_items_list=similarity_matrix[target_item].sort_values(ascending=False).index.tolist()\n",
    "for item in sim_items_list:\n",
    "    if target_user in item_data[item]:\n",
    "    # 如果target_user对物品item评分过\n",
    "        sim_items.append(item)\n",
    "    if len(sim_items)==num:\n",
    "        break\n",
    "print(f'与物品{target_item}最相似的{num}个物品为:{sim_items}')"
   ]
  },
  {
   "cell_type": "code",
   "execution_count": 5,
   "id": "4867c933",
   "metadata": {},
   "outputs": [
    {
     "name": "stdout",
     "output_type": "stream",
     "text": [
      "用户Alice对物品E的预测评分为：4.6\n"
     ]
    }
   ],
   "source": [
    "# 预测用户Alice对物品E的评分\n",
    "target_user_mean_rating=np.mean(list(item_data[target_item].values()))\n",
    "weighted_scores=0.\n",
    "corr_values_sum=0.\n",
    "\n",
    "target_item='E'\n",
    "for item in sim_items:\n",
    "    corr_value=similarity_matrix[target_item][item]\n",
    "    user_mean_rating=np.mean(list(item_data[item].values()))\n",
    "    \n",
    "    weighted_scores+=corr_value*(item_data[item][target_user]-user_mean_rating)\n",
    "    corr_values_sum+=corr_value\n",
    "\n",
    "target_item_pred=target_user_mean_rating+weighted_scores/corr_values_sum\n",
    "print(f'用户{target_user}对物品{target_item}的预测评分为：{target_item_pred}')"
   ]
  },
  {
   "cell_type": "code",
   "execution_count": null,
   "id": "368b38d7",
   "metadata": {},
   "outputs": [],
   "source": []
  }
 ],
 "metadata": {
  "kernelspec": {
   "display_name": "Python 3 (ipykernel)",
   "language": "python",
   "name": "python3"
  },
  "language_info": {
   "codemirror_mode": {
    "name": "ipython",
    "version": 3
   },
   "file_extension": ".py",
   "mimetype": "text/x-python",
   "name": "python",
   "nbconvert_exporter": "python",
   "pygments_lexer": "ipython3",
   "version": "3.9.7"
  }
 },
 "nbformat": 4,
 "nbformat_minor": 5
}
