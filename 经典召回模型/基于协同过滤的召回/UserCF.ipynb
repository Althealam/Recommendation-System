{
 "cells": [
  {
   "cell_type": "code",
   "execution_count": 1,
   "id": "60c8ba6e",
   "metadata": {},
   "outputs": [],
   "source": [
    "# 建立实验使用的数据表\n",
    "\n",
    "import numpy as np\n",
    "import pandas as pd\n",
    "\n",
    "\n",
    "def loadData():\n",
    "    # 字典users的键表示不同用户的名字，值为一个评分字典，评分字典的键值对表示某物品被当前用户的评分\n",
    "    # 现实场景中，用户对物品的评分会比较稀疏\n",
    "    users = {'Alice': {'A': 5, 'B': 3, 'C': 4, 'D': 4},\n",
    "             'user1': {'A': 3, 'B': 1, 'C': 2, 'D': 3, 'E': 3},\n",
    "             'user2': {'A': 4, 'B': 3, 'C': 4, 'D': 3, 'E': 5},\n",
    "             'user3': {'A': 3, 'B': 3, 'C': 1, 'D': 5, 'E': 4},\n",
    "             'user4': {'A': 1, 'B': 5, 'C': 5, 'D': 2, 'E': 1}\n",
    "             }\n",
    "    # Alice对A项目的评分是5，对B项目的评分是3\n",
    "    return users"
   ]
  },
  {
   "cell_type": "code",
   "execution_count": 2,
   "id": "4b5774e6",
   "metadata": {},
   "outputs": [],
   "source": [
    "# 计算用户相似性矩阵\n",
    "user_data=loadData()\n",
    "similarity_matrix=pd.DataFrame(\n",
    "    np.identity(len(user_data)),\n",
    "    index=user_data.keys(),\n",
    "    columns=user_data.keys(),\n",
    ")"
   ]
  },
  {
   "cell_type": "code",
   "execution_count": 6,
   "id": "39cccaac",
   "metadata": {},
   "outputs": [
    {
     "name": "stdout",
     "output_type": "stream",
     "text": [
      "          Alice     user1     user2     user3     user4\n",
      "Alice  1.000000  0.852803  0.707107  0.000000 -0.792118\n",
      "user1  0.852803  1.000000  0.467707  0.489956 -0.900149\n",
      "user2  0.707107  0.467707  1.000000 -0.161165 -0.466569\n",
      "user3  0.000000  0.489956 -0.161165  1.000000 -0.641503\n",
      "user4 -0.792118 -0.900149 -0.466569 -0.641503  1.000000\n"
     ]
    }
   ],
   "source": [
    "# 遍历每条用户-物品评分数据\n",
    "for u1, items1 in user_data.items():\n",
    "    # u1：用户的名字（键）\n",
    "    # items1：该用户对各个项目的评分（值）\n",
    "    for u2, items2 in user_data.items():\n",
    "        if u1==u2: # 如果u1和u2是同一个人，不计算用户与自己的相似度\n",
    "            continue\n",
    "        vec1,vec2=[],[] # 用户存储两个用户对相同项目的评分\n",
    "        for item, rating1 in items1.items(): \n",
    "            # item：项目\n",
    "            # rating1：u1用户对该项目的评分\n",
    "            rating2=items2.get(item,-1) # 获取评分，如果没有的话就是-1\n",
    "            if rating2==-1: # 如果u2沒有对其评分，就跳过当前项目的比较\n",
    "                continue\n",
    "            vec1.append(rating1) # 将u1用户的评分添加到vec1列表中\n",
    "            vec2.append(rating2) # 将u2用户的评分添加到vec2列表中\n",
    "        # 计算不同用户之间的皮尔逊相关系数\n",
    "        similarity_matrix[u1][u2]=np.corrcoef(vec1,vec2)[0][1]\n",
    "        # np.corrcoef(vec1,vec2)返回一个相关系数矩阵\n",
    "        # [0][1]和[1][0]位置的键是两个向量的相关系数\n",
    "        # 这个值被存储在similarity_matrix字典中\n",
    "\n",
    "print(similarity_matrix)"
   ]
  },
  {
   "cell_type": "code",
   "execution_count": 10,
   "id": "be451d18",
   "metadata": {},
   "outputs": [
    {
     "name": "stdout",
     "output_type": "stream",
     "text": [
      "与用户Alice最相似的2个用户为：['user1', 'user2']\n"
     ]
    }
   ],
   "source": [
    "# 计算与Alice最为相似的num个用户\n",
    "target_user='Alice'\n",
    "num=2\n",
    "sim_users=similarity_matrix[target_user].sort_values(ascending=False)[1:num+1].index.tolist()\n",
    "print(f'与用户{target_user}最相似的{num}个用户为：{sim_users}')"
   ]
  },
  {
   "cell_type": "code",
   "execution_count": 14,
   "id": "b6530617",
   "metadata": {},
   "outputs": [
    {
     "name": "stdout",
     "output_type": "stream",
     "text": [
      "用户Alice对物品E的预测评分为：4.871979899370592\n"
     ]
    }
   ],
   "source": [
    "# 预测用户Alice对物品E的评分\n",
    "weighted_scores=0. # 存储加权评分的和\n",
    "corr_values_sum=0. # 存储所有相关性系数的总和\n",
    " # 预测评分的目标物品\n",
    "target_item='E'\n",
    "# 基于皮尔逊相关系数预测用户评分\n",
    "for user in sim_users: # 遍历与目标用户有相似度评分的其他用户\n",
    "    corr_value=similarity_matrix[target_user][user] # 获取目标用户和当前遍历用户之间的皮尔逊相关系数\n",
    "    user_mean_rating=np.mean(list(user_data[user].values())) # 计算当前遍历用户对所有物品的平均评分\n",
    "    \n",
    "    # 计算加权评分\n",
    "    # 这里，每个用户的评分减去其平均评分，然后乘以目标用户和当前用户的相关性系数，最后加到 weighted_scores 上。\n",
    "    weighted_scores+=corr_value*(user_data[user][target_item]-user_mean_rating)\n",
    "    corr_values_sum+=corr_value\n",
    "\n",
    "# 计算目标用户对目标物品的预测评分\n",
    "target_user_mean_rating=np.mean(list(user_data[target_user].values()))\n",
    "target_item_pred=target_user_mean_rating+weighted_scores/corr_values_sum \n",
    "print(f'用户{target_user}对物品{target_item}的预测评分为：{target_item_pred}')"
   ]
  },
  {
   "cell_type": "code",
   "execution_count": null,
   "id": "0f9c7757",
   "metadata": {},
   "outputs": [],
   "source": []
  }
 ],
 "metadata": {
  "kernelspec": {
   "display_name": "Python 3 (ipykernel)",
   "language": "python",
   "name": "python3"
  },
  "language_info": {
   "codemirror_mode": {
    "name": "ipython",
    "version": 3
   },
   "file_extension": ".py",
   "mimetype": "text/x-python",
   "name": "python",
   "nbconvert_exporter": "python",
   "pygments_lexer": "ipython3",
   "version": "3.9.7"
  }
 },
 "nbformat": 4,
 "nbformat_minor": 5
}
