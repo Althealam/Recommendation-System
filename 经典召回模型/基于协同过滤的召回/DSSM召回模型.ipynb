{
 "cells": [
  {
   "cell_type": "code",
   "execution_count": null,
   "id": "7d3bc35b",
   "metadata": {},
   "outputs": [],
   "source": [
    "# 模型训练数据\n",
    "# 1. 用户侧：用户画像属性（用户性别、年龄、所在省市、使用设备及系统）\n",
    "# 2. 新闻侧：新闻的创建时间、题目、所属一级、二级类别，题片个数以及关键词\n"
   ]
  }
 ],
 "metadata": {
  "kernelspec": {
   "display_name": "Python 3 (ipykernel)",
   "language": "python",
   "name": "python3"
  },
  "language_info": {
   "codemirror_mode": {
    "name": "ipython",
    "version": 3
   },
   "file_extension": ".py",
   "mimetype": "text/x-python",
   "name": "python",
   "nbconvert_exporter": "python",
   "pygments_lexer": "ipython3",
   "version": "3.9.7"
  }
 },
 "nbformat": 4,
 "nbformat_minor": 5
}
